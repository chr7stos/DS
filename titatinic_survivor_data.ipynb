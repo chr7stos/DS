{
 "cells": [
  {
   "cell_type": "markdown",
   "metadata": {},
   "source": [
    "# Titanic survivor data \n",
    "\n",
    "http://en.wikipedia.org/wiki/RMS_Titanic\n",
    "http://www.kaggle.com/c/titanic-gettingStarted    \n",
    "http://www.kaggle.com/c/titanic-gettingStarted/data\n",
    "    \n",
    "## 1. Simple heuristic\n",
    "\n",
    "Part of a data scientist's job is to use her or his intuition and insight to\n",
    "write algorithms and heuristics. A data scientist also creates mathematical models \n",
    "to make predictions based on some attributes from the data that they are examining.\n",
    "We would like for you to take your knowledge and intuition about the Titanic\n",
    "and its passengers' attributes to predict whether or not the passengers survived\n",
    "or perished. You can read more about the Titanic and specifics about this dataset at:\n",
    "\n",
    "For this exercise, you need to write a simple heuristic that will use\n",
    "the passengers' gender to predict if that person survived the Titanic diaster.\n",
    "    \n",
    "You prediction should be 78% accurate or higher.\n",
    "        \n",
    "Here's a simple heuristic to start off:\n",
    "1) If the passenger is female, your heuristic should assume that the passenger survived.\n",
    "2) If the passenger is male, you heuristic should assume that the passenger did not surive.\n",
    "    \n",
    "You can access the gender of a passenger via passenger['Sex'].\n",
    "If the passenger is male, passenger['Sex'] will return a string \"male\".\n",
    "If the passenger is female, passenger['Sex'] will return a string \"female\".\n",
    "\n",
    "Write your prediction back into the \"predictions\" dictionary. The\n",
    "key of the dictionary should be the Passenger's id (which can be accessed\n",
    "via passenger[\"PassengerId\"]) and the associating value should be 1 if the\n",
    "passenger survied or 0 otherwise. \n",
    "\n",
    "For example, if a passenger survived:\n",
    "passenger_id = passenger['PassengerId']\n",
    "predictions[passenger_id] = 1\n",
    "\n",
    "Or if a passenger perished in the disaster:\n",
    "passenger_id = passenger['PassengerId']\n",
    "predictions[passenger_id] = 0"
   ]
  },
  {
   "cell_type": "code",
   "execution_count": 2,
   "metadata": {
    "collapsed": false
   },
   "outputs": [
    {
     "name": "stdout",
     "output_type": "stream",
     "text": [
      "The success rate for the simple heuristic is: 78.6756453423 %\n"
     ]
    }
   ],
   "source": [
    "from __future__ import division\n",
    "\n",
    "import numpy\n",
    "import pandas\n",
    "import statsmodels.api as sm\n",
    "import sys\n",
    "\n",
    "def simple_heuristic(file_path):\n",
    "    \n",
    "    predictions = {}\n",
    "    df = pandas.read_csv(file_path)\n",
    "    #print df.head()\n",
    "    for passenger_index, passenger in df.iterrows():\n",
    "    # iterrows gives you (index, row) tuples rather than just the rows\n",
    "        passenger_id = passenger['PassengerId']\n",
    "        if passenger['Sex'] == 'male':\n",
    "            predictions[passenger_id] = 0\n",
    "        else:\n",
    "            predictions[passenger_id] = 1\n",
    "    return predictions\n",
    "\n",
    "def check_accuracy(file_name):\n",
    "    total_count = 0\n",
    "    correct_count = 0\n",
    "    df = pandas.read_csv(file_name)\n",
    "    predictions = simple_heuristic(file_name)\n",
    "    for row_index, row in df.iterrows():\n",
    "        total_count += 1\n",
    "        if predictions[row['PassengerId']] == row['Survived']:\n",
    "            correct_count += 1\n",
    "    return correct_count/total_count\n",
    "    \n",
    "predictions = simple_heuristic(\"data/titanic_data.csv\")\n",
    "\n",
    "if __name__ == \"__main__\":\n",
    "    simple_heuristic_success_rate = check_accuracy('data/titanic_data.csv')\n",
    "    print \"The success rate for the simple heuristic is:\", simple_heuristic_success_rate * 100, \"%\""
   ]
  },
  {
   "cell_type": "markdown",
   "metadata": {},
   "source": [
    "## 2. More complex heuristics\n",
    "\n",
    "The passenger survives:\n",
    "1. If the passenger is female or\n",
    "2. if his/her socioeconomic status is high AND if the passenger is under 18\n",
    "\n",
    "Otherwise, your algorithm should predict that the passenger perished in the disaster.\n",
    "\n",
    "Or more specifically in terms of coding:\n",
    "female or (high status and under 18)\n",
    "\n",
    "You can access the gender of a passenger via passenger['Sex'].\n",
    "If the passenger is male, passenger['Sex'] will return a string \"male\".\n",
    "If the passenger is female, passenger['Sex'] will return a string \"female\".\n",
    "\n",
    "You can access the socioeconomic status of a passenger via passenger['Pclass']:\n",
    "High socioeconomic status -- passenger['Pclass'] is 1\n",
    "Medium socioeconomic status -- passenger['Pclass'] is 2\n",
    "Low socioeconomic status -- passenger['Pclass'] is 3\n",
    "\n",
    "You can access the age of a passenger via passenger['Age'].\n",
    "\n",
    "Write your prediction back into the \"predictions\" dictionary. The\n",
    "key of the dictionary should be the Passenger's id (which can be accessed\n",
    "via passenger[\"PassengerId\"]) and the associated value should be 1 if the\n",
    "passenger survived or 0 otherwise. \n",
    "\n",
    "For example, if a passenger is predicted to have survived:\n",
    "passenger_id = passenger['PassengerId']\n",
    "predictions[passenger_id] = 1\n",
    "\n",
    "And if a passenger is predicted to have perished in the disaster:\n",
    "passenger_id = passenger['PassengerId']\n",
    "predictions[passenger_id] = 0\n"
   ]
  },
  {
   "cell_type": "code",
   "execution_count": 6,
   "metadata": {
    "collapsed": false
   },
   "outputs": [
    {
     "name": "stdout",
     "output_type": "stream",
     "text": [
      "The success rate for the complex heuristic is: 79.4612794613 %\n"
     ]
    }
   ],
   "source": [
    "def complex_heuristic(file_path):\n",
    "    \n",
    "    predictions = {}\n",
    "    df = pandas.read_csv(file_path)\n",
    "    #print df.head()\n",
    "    for passenger_index, passenger in df.iterrows():\n",
    "    # iterrows gives you (index, row) tuples rather than just the rows\n",
    "        passenger_id = passenger['PassengerId']\n",
    "        if passenger['Sex'] == 'female' or (passenger['Pclass'] == 2 and passenger['Age'] < 18):\n",
    "            predictions[passenger_id] = 1\n",
    "        else:\n",
    "            predictions[passenger_id] = 0\n",
    "    return predictions\n",
    "    \n",
    "predictions = complex_heuristic(\"data/titanic_data.csv\")\n",
    "\n",
    "def check_accuracy(file_name):\n",
    "    total_count = 0\n",
    "    correct_count = 0\n",
    "    df = pandas.read_csv(file_name)\n",
    "    predictions = complex_heuristic(file_name)\n",
    "    for row_index, row in df.iterrows():\n",
    "        total_count += 1\n",
    "        if predictions[row['PassengerId']] == row['Survived']:\n",
    "            correct_count += 1\n",
    "    return correct_count/total_count\n",
    "\n",
    "\n",
    "if __name__ == \"__main__\":\n",
    "    complex_heuristic_success_rate = check_accuracy('data/titanic_data.csv')\n",
    "    print \"The success rate for the complex heuristic is:\", complex_heuristic_success_rate * 100, \"%\""
   ]
  },
  {
   "cell_type": "markdown",
   "metadata": {},
   "source": [
    "## Custom heuristic"
   ]
  },
  {
   "cell_type": "code",
   "execution_count": null,
   "metadata": {
    "collapsed": true
   },
   "outputs": [],
   "source": []
  }
 ],
 "metadata": {
  "kernelspec": {
   "display_name": "Python 2",
   "language": "python",
   "name": "python2"
  },
  "language_info": {
   "codemirror_mode": {
    "name": "ipython",
    "version": 2
   },
   "file_extension": ".py",
   "mimetype": "text/x-python",
   "name": "python",
   "nbconvert_exporter": "python",
   "pygments_lexer": "ipython2",
   "version": "2.7.11"
  }
 },
 "nbformat": 4,
 "nbformat_minor": 0
}
