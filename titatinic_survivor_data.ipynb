{
 "cells": [
  {
   "cell_type": "markdown",
   "metadata": {},
   "source": [
    "# Titanic survivor data \n",
    "\n",
    "http://en.wikipedia.org/wiki/RMS_Titanic    \n",
    "http://www.kaggle.com/c/titanic-gettingStarted    \n",
    "http://www.kaggle.com/c/titanic-gettingStarted/data\n",
    "    \n",
    "## 1. Simple heuristic\n",
    "\n",
    "Part of a data scientist's job is to use her or his intuition and insight to\n",
    "write algorithms and heuristics. A data scientist also creates mathematical models \n",
    "to make predictions based on some attributes from the data that they are examining.\n",
    "We would like for you to take your knowledge and intuition about the Titanic\n",
    "and its passengers' attributes to predict whether or not the passengers survived\n",
    "or perished. You can read more about the Titanic and specifics about this dataset at:\n",
    "\n",
    "For this exercise, you need to write a simple heuristic that will use\n",
    "the passengers' gender to predict if that person survived the Titanic diaster.\n",
    "    \n",
    "You prediction should be 78% accurate or higher.\n",
    "        \n",
    "Here's a simple heuristic to start off:\n",
    "1) If the passenger is female, your heuristic should assume that the passenger survived.\n",
    "2) If the passenger is male, you heuristic should assume that the passenger did not surive.\n",
    "    \n",
    "You can access the gender of a passenger via passenger['Sex'].\n",
    "If the passenger is male, passenger['Sex'] will return a string \"male\".\n",
    "If the passenger is female, passenger['Sex'] will return a string \"female\".\n",
    "\n",
    "Write your prediction back into the \"predictions\" dictionary. The\n",
    "key of the dictionary should be the Passenger's id (which can be accessed\n",
    "via passenger[\"PassengerId\"]) and the associating value should be 1 if the\n",
    "passenger survied or 0 otherwise. \n",
    "\n",
    "For example, if a passenger survived:\n",
    "passenger_id = passenger['PassengerId']\n",
    "predictions[passenger_id] = 1\n",
    "\n",
    "Or if a passenger perished in the disaster:\n",
    "passenger_id = passenger['PassengerId']\n",
    "predictions[passenger_id] = 0"
   ]
  },
  {
   "cell_type": "code",
   "execution_count": null,
   "metadata": {
    "collapsed": true
   },
   "outputs": [],
   "source": [
    "import numpy\n",
    "import pandas\n",
    "import statsmodels.api as sm\n",
    "\n",
    "def simple_heuristic(file_path):\n",
    "    \n",
    "    predictions = {}\n",
    "    df = pandas.read_csv(file_path)\n",
    "    for passenger_index, passenger in df.iterrows():\n",
    "        #\n",
    "        # Your code here\n",
    "        #\n",
    "        return predictions\n"
   ]
  },
  {
   "cell_type": "code",
   "execution_count": 3,
   "metadata": {
    "collapsed": true
   },
   "outputs": [],
   "source": [
    "?sm"
   ]
  },
  {
   "cell_type": "code",
   "execution_count": null,
   "metadata": {
    "collapsed": true
   },
   "outputs": [],
   "source": []
  }
 ],
 "metadata": {
  "kernelspec": {
   "display_name": "Python 2",
   "language": "python",
   "name": "python2"
  },
  "language_info": {
   "codemirror_mode": {
    "name": "ipython",
    "version": 2
   },
   "file_extension": ".py",
   "mimetype": "text/x-python",
   "name": "python",
   "nbconvert_exporter": "python",
   "pygments_lexer": "ipython2",
   "version": "2.7.11"
  }
 },
 "nbformat": 4,
 "nbformat_minor": 0
}
