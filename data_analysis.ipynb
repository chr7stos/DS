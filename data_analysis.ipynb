{
 "cells": [
  {
   "cell_type": "markdown",
   "metadata": {},
   "source": []
  },
  {
   "cell_type": "code",
   "execution_count": null,
   "metadata": {
    "collapsed": true
   },
   "outputs": [],
   "source": []
  },
  {
   "cell_type": "markdown",
   "metadata": {},
   "source": [
    "## Welch's two sample t-test\n",
    "\n",
    "http://docs.scipy.org/doc/scipy/reference/generated/scipy.stats.ttest_ind.html"
   ]
  },
  {
   "cell_type": "code",
   "execution_count": 1,
   "metadata": {
    "collapsed": false
   },
   "outputs": [
    {
     "name": "stdout",
     "output_type": "stream",
     "text": [
      "this is t -0.279682359512\n",
      "this is v 307.198799752\n",
      "None\n"
     ]
    }
   ],
   "source": [
    "from __future__ import division\n",
    "import numpy\n",
    "import pandas\n",
    "import math\n",
    "import scipy.stats\n",
    "\n",
    "def t_and_v(N1, mu1, var1, N2, mu2, var2):\n",
    "    t = (mu1 - mu2) / (var1/N1 + var2/N2)**0.5\n",
    "    v = (var1/N1 + var2/N2)**2 / ( (var1**2/(N1**2 * (N1-1))) + (var2**2/(N2**2 * (N2-1))) )\n",
    "    print \"this is t\", t\n",
    "    print \"this is v\", v\n",
    "\n",
    "print t_and_v(150, 0.299, 0.05, 165, 0.307, 0.08)"
   ]
  },
  {
   "cell_type": "markdown",
   "metadata": {},
   "source": [
    "`scipy.stats.ttest_ind(a,b,axis = 0, equal_var= True)`\n",
    "\n",
    "\n",
    "    Calculates the T-test for the means of TWO INDEPENDENT samples of scores.This is a two-sided test for the null hypothesis that 2 independent samples have identical average (expected) values. This test assumes that the populations have identical variances."
   ]
  },
  {
   "cell_type": "code",
   "execution_count": 6,
   "metadata": {
    "collapsed": false
   },
   "outputs": [
    {
     "name": "stdout",
     "output_type": "stream",
     "text": [
      "(False, Ttest_indResult(statistic=3.9867064465971302, pvalue=7.482391590970722e-05))\n"
     ]
    }
   ],
   "source": [
    "def compare_averages():\n",
    "    \"\"\"\n",
    "    Performs a t-test on two sets of baseball data (left-, right- handed)\n",
    "    \"\"\"\n",
    "    \n",
    "    #Load data and separate them into the two relevant-for-this-test groups\n",
    "    baseball_data = pandas.read_csv(\"data/lesson_3/t-test/baseball_data.csv\")\n",
    "    \n",
    "    b_data_left = baseball_data[baseball_data[\"handedness\"] == \"L\"]\n",
    "    b_data_right = baseball_data[baseball_data[\"handedness\"] == \"R\"]\n",
    "    \n",
    "    # Perform the test\n",
    "    \n",
    "    result = scipy.stats.ttest_ind(b_data_left[\"avg\"], b_data_right[\"avg\"],\n",
    "                                  equal_var = False)\n",
    "    \n",
    "    if result[1] <= .05:\n",
    "        return (False, result)\n",
    "    else:\n",
    "        return (True, result)\n",
    "    \n",
    "if __name__ == \"__main__\":\n",
    "    result = compare_averages()\n",
    "    print result"
   ]
  },
  {
   "cell_type": "code",
   "execution_count": 4,
   "metadata": {
    "collapsed": false
   },
   "outputs": [
    {
     "data": {
      "text/html": [
       "<div>\n",
       "<table border=\"1\" class=\"dataframe\">\n",
       "  <thead>\n",
       "    <tr style=\"text-align: right;\">\n",
       "      <th></th>\n",
       "      <th>name</th>\n",
       "      <th>handedness</th>\n",
       "      <th>height</th>\n",
       "      <th>weight</th>\n",
       "      <th>avg</th>\n",
       "      <th>HR</th>\n",
       "    </tr>\n",
       "  </thead>\n",
       "  <tbody>\n",
       "    <tr>\n",
       "      <th>0</th>\n",
       "      <td>Tom Brown</td>\n",
       "      <td>R</td>\n",
       "      <td>73</td>\n",
       "      <td>170</td>\n",
       "      <td>0.000</td>\n",
       "      <td>0</td>\n",
       "    </tr>\n",
       "    <tr>\n",
       "      <th>1</th>\n",
       "      <td>Denny Lemaster</td>\n",
       "      <td>R</td>\n",
       "      <td>73</td>\n",
       "      <td>182</td>\n",
       "      <td>0.130</td>\n",
       "      <td>4</td>\n",
       "    </tr>\n",
       "    <tr>\n",
       "      <th>2</th>\n",
       "      <td>Joe Nolan</td>\n",
       "      <td>L</td>\n",
       "      <td>71</td>\n",
       "      <td>175</td>\n",
       "      <td>0.263</td>\n",
       "      <td>27</td>\n",
       "    </tr>\n",
       "    <tr>\n",
       "      <th>3</th>\n",
       "      <td>Denny Doyle</td>\n",
       "      <td>L</td>\n",
       "      <td>69</td>\n",
       "      <td>175</td>\n",
       "      <td>0.250</td>\n",
       "      <td>16</td>\n",
       "    </tr>\n",
       "    <tr>\n",
       "      <th>4</th>\n",
       "      <td>Jose Cardenal</td>\n",
       "      <td>R</td>\n",
       "      <td>70</td>\n",
       "      <td>150</td>\n",
       "      <td>0.275</td>\n",
       "      <td>138</td>\n",
       "    </tr>\n",
       "  </tbody>\n",
       "</table>\n",
       "</div>"
      ],
      "text/plain": [
       "             name handedness  height  weight    avg   HR\n",
       "0       Tom Brown          R      73     170  0.000    0\n",
       "1  Denny Lemaster          R      73     182  0.130    4\n",
       "2       Joe Nolan          L      71     175  0.263   27\n",
       "3     Denny Doyle          L      69     175  0.250   16\n",
       "4   Jose Cardenal          R      70     150  0.275  138"
      ]
     },
     "execution_count": 4,
     "metadata": {},
     "output_type": "execute_result"
    }
   ],
   "source": [
    "bd = pandas.read_csv(\"data/lesson_3/t-test/baseball_data.csv\")\n",
    "bd.head()"
   ]
  },
  {
   "cell_type": "code",
   "execution_count": null,
   "metadata": {
    "collapsed": true
   },
   "outputs": [],
   "source": []
  }
 ],
 "metadata": {
  "kernelspec": {
   "display_name": "Python 2",
   "language": "python",
   "name": "python2"
  },
  "language_info": {
   "codemirror_mode": {
    "name": "ipython",
    "version": 2
   },
   "file_extension": ".py",
   "mimetype": "text/x-python",
   "name": "python",
   "nbconvert_exporter": "python",
   "pygments_lexer": "ipython2",
   "version": "2.7.11"
  }
 },
 "nbformat": 4,
 "nbformat_minor": 0
}
