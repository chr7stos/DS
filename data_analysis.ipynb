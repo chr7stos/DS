{
 "cells": [
  {
   "cell_type": "markdown",
   "metadata": {},
   "source": [
    "## Welsch's two sample t-test\n",
    "\n",
    "http://docs.scipy.org/doc/scipy/reference/generated/scipy.stats.ttest_ind.html"
   ]
  },
  {
   "cell_type": "code",
   "execution_count": 17,
   "metadata": {
    "collapsed": false
   },
   "outputs": [
    {
     "name": "stdout",
     "output_type": "stream",
     "text": [
      "this is t -0.279682359512\n",
      "this is v 307.198799752\n",
      "None\n"
     ]
    }
   ],
   "source": [
    "from __future__ import division\n",
    "import math\n",
    "import scipy.stats\n",
    "\n",
    "def t_and_v(N1, mu1, var1, N2, mu2, var2):\n",
    "    t = (mu1 - mu2) / (var1/N1 + var2/N2)**0.5\n",
    "    v = (var1/N1 + var2/N2)**2 / ( (var1**2/(N1**2 * (N1-1))) + (var2**2/(N2**2 * (N2-1))) )\n",
    "    print \"this is t\", t\n",
    "    print \"this is v\", v\n",
    "\n",
    "print t_and_v(150, 0.299, 0.05, 165, 0.307, 0.08)"
   ]
  },
  {
   "cell_type": "code",
   "execution_count": null,
   "metadata": {
    "collapsed": true
   },
   "outputs": [],
   "source": []
  }
 ],
 "metadata": {
  "kernelspec": {
   "display_name": "Python 2",
   "language": "python",
   "name": "python2"
  },
  "language_info": {
   "codemirror_mode": {
    "name": "ipython",
    "version": 2
   },
   "file_extension": ".py",
   "mimetype": "text/x-python",
   "name": "python",
   "nbconvert_exporter": "python",
   "pygments_lexer": "ipython2",
   "version": "2.7.11"
  }
 },
 "nbformat": 4,
 "nbformat_minor": 0
}
