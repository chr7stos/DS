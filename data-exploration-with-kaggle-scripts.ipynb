{
 "cells": [
  {
   "cell_type": "code",
   "execution_count": 7,
   "metadata": {
    "collapsed": false
   },
   "outputs": [
    {
     "data": {
      "text/html": [
       "<table>\n",
       "<thead><tr><th></th><th scope=col>SCHL</th><th scope=col>ESR</th><th scope=col>PINCP</th></tr></thead>\n",
       "<tbody>\n",
       "\t<tr><th scope=row>1</th><td>3</td><td>NA</td><td>NA</td></tr>\n",
       "\t<tr><th scope=row>2</th><td>21</td><td>1</td><td>25000</td></tr>\n",
       "\t<tr><th scope=row>3</th><td>1</td><td>NA</td><td>NA</td></tr>\n",
       "\t<tr><th scope=row>4</th><td>21</td><td>1</td><td>20000</td></tr>\n",
       "\t<tr><th scope=row>5</th><td>21</td><td>1</td><td>50000</td></tr>\n",
       "\t<tr><th scope=row>6</th><td>24</td><td>6</td><td>600</td></tr>\n",
       "\t<tr><th scope=row>7</th><td>17</td><td>1</td><td>327000</td></tr>\n",
       "\t<tr><th scope=row>8</th><td>4</td><td>NA</td><td>NA</td></tr>\n",
       "\t<tr><th scope=row>9</th><td>18</td><td>1</td><td>12000</td></tr>\n",
       "\t<tr><th scope=row>10</th><td>19</td><td>1</td><td>65000</td></tr>\n",
       "\t<tr><th scope=row>11</th><td>21</td><td>1</td><td>85000</td></tr>\n",
       "\t<tr><th scope=row>12</th><td>16</td><td>6</td><td>8200</td></tr>\n",
       "\t<tr><th scope=row>13</th><td>21</td><td>6</td><td>3600</td></tr>\n",
       "\t<tr><th scope=row>14</th><td>22</td><td>6</td><td>26200</td></tr>\n",
       "\t<tr><th scope=row>15</th><td>19</td><td>1</td><td>45000</td></tr>\n",
       "\t<tr><th scope=row>16</th><td>19</td><td>1</td><td>32000</td></tr>\n",
       "\t<tr><th scope=row>17</th><td>11</td><td>NA</td><td>NA</td></tr>\n",
       "\t<tr><th scope=row>18</th><td>18</td><td>6</td><td>0</td></tr>\n",
       "\t<tr><th scope=row>19</th><td>15</td><td>6</td><td>8400</td></tr>\n",
       "\t<tr><th scope=row>20</th><td>8</td><td>NA</td><td>NA</td></tr>\n",
       "</tbody>\n",
       "</table>\n"
      ],
      "text/latex": [
       "\\begin{tabular}{r|lll}\n",
       "  & SCHL & ESR & PINCP\\\\\n",
       "\\hline\n",
       "\t1 & 3 & NA & NA\\\\\n",
       "\t2 & 21 & 1 & 25000\\\\\n",
       "\t3 & 1 & NA & NA\\\\\n",
       "\t4 & 21 & 1 & 20000\\\\\n",
       "\t5 & 21 & 1 & 50000\\\\\n",
       "\t6 & 24 & 6 & 600\\\\\n",
       "\t7 & 17 & 1 & 327000\\\\\n",
       "\t8 & 4 & NA & NA\\\\\n",
       "\t9 & 18 & 1 & 12000\\\\\n",
       "\t10 & 19 & 1 & 65000\\\\\n",
       "\t11 & 21 & 1 & 85000\\\\\n",
       "\t12 & 16 & 6 & 8200\\\\\n",
       "\t13 & 21 & 6 & 3600\\\\\n",
       "\t14 & 22 & 6 & 26200\\\\\n",
       "\t15 & 19 & 1 & 45000\\\\\n",
       "\t16 & 19 & 1 & 32000\\\\\n",
       "\t17 & 11 & NA & NA\\\\\n",
       "\t18 & 18 & 6 & 0\\\\\n",
       "\t19 & 15 & 6 & 8400\\\\\n",
       "\t20 & 8 & NA & NA\\\\\n",
       "\\end{tabular}\n"
      ],
      "text/plain": [
       "    SCHL ESR  PINCP\n",
       " 1:    3  NA     NA\n",
       " 2:   21   1  25000\n",
       " 3:    1  NA     NA\n",
       " 4:   21   1  20000\n",
       " 5:   21   1  50000\n",
       " 6:   24   6    600\n",
       " 7:   17   1 327000\n",
       " 8:    4  NA     NA\n",
       " 9:   18   1  12000\n",
       "10:   19   1  65000\n",
       "11:   21   1  85000\n",
       "12:   16   6   8200\n",
       "13:   21   6   3600\n",
       "14:   22   6  26200\n",
       "15:   19   1  45000\n",
       "16:   19   1  32000\n",
       "17:   11  NA     NA\n",
       "18:   18   6      0\n",
       "19:   15   6   8400\n",
       "20:    8  NA     NA"
      ]
     },
     "execution_count": 7,
     "metadata": {},
     "output_type": "execute_result"
    }
   ],
   "source": [
    "# URL to AC survey data\n",
    "acs_url <- \"http://s3.amazonaws.com/assets.datacamp.com/production/course_835/datasets/ac_survey.RData\"\n",
    "\n",
    "# Import data in .RData file at acs_url\n",
    "load(url(acs_url))\n",
    "\n",
    "# Print head of ac_survey\n",
    "head(ac_survey, n = 20)\n"
   ]
  },
  {
   "cell_type": "code",
   "execution_count": null,
   "metadata": {
    "collapsed": false
   },
   "outputs": [],
   "source": [
    "library(dplyr)\n",
    "\n",
    "# data frame that translates SCHL to Degree\n",
    "degree_codes <- data.frame(SCHL = c(21, 22, 24), Degree = c(\"Bachelor\", \"Masters\", \"Doctorate\"))\n",
    "\n",
    "# Add code to remove NAs, filter and join\n",
    "ac_survey_clean <- ac_survey %>% \n",
    "tbl_df() %>%\n",
    "na.omit() %>%\n",
    "filter(SCHL %in% c(21,22,24)) %>%\n",
    "inner_join(degree_codes)\n",
    "    \n",
    "# Print out ac_survey_clean  \n",
    "head(ac_survey_clean)"
   ]
  },
  {
   "cell_type": "code",
   "execution_count": null,
   "metadata": {
    "collapsed": true
   },
   "outputs": [],
   "source": []
  },
  {
   "cell_type": "code",
   "execution_count": null,
   "metadata": {
    "collapsed": false
   },
   "outputs": [],
   "source": []
  },
  {
   "cell_type": "code",
   "execution_count": null,
   "metadata": {
    "collapsed": true
   },
   "outputs": [],
   "source": []
  }
 ],
 "metadata": {
  "kernelspec": {
   "display_name": "R",
   "language": "R",
   "name": "ir"
  },
  "language_info": {
   "codemirror_mode": "r",
   "file_extension": ".r",
   "mimetype": "text/x-r-source",
   "name": "R",
   "pygments_lexer": "r",
   "version": "3.2.2"
  }
 },
 "nbformat": 4,
 "nbformat_minor": 0
}
